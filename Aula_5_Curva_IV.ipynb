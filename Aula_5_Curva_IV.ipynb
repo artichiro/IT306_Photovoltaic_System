{
  "cells": [
    {
      "cell_type": "markdown",
      "metadata": {
        "id": "pLt9CIPwgYgt"
      },
      "source": [
        "## Etapas da Aula\n",
        "- Funções para Extração de Parâmetros e Resolução da Equação Característica da Curva IV (De Soto)\n",
        "\n",
        "- Características do Módulo FV e Condição de STC\n",
        "\n",
        "1) Extração de Parâmetros dos Pontos da Curva IV do Datasheet (Métodos da De Soto)\n",
        "\n",
        "2) Resolvendo a Equação Característica do SDM 5 P (Métodos do Lambert-W, Newton-Raphson e Bishop)\n",
        "\n",
        "-> Desafio 1: Adaptar a Equação Característica do SDM 5-Param para:\n",
        "- 5 módulos em Série\n",
        "- 3 Módulos em Paralelo\n",
        "\n",
        "-> Desafio 2: Determinem o Fator de Idealidade do Módulo\n",
        "\n",
        "-> Desafio 3: Fazer o Método do CEC para Extração de Parâmetros do Datasheet e Cálculo de Parâmetros do SDM\n",
        "\n",
        "3) Modelagem da Curva IV com a Variação de Temperatura e Irradiância"
      ]
    },
    {
      "cell_type": "code",
      "execution_count": null,
      "metadata": {},
      "outputs": [],
      "source": [
        "#!pip install pvlib"
      ]
    },
    {
      "cell_type": "code",
      "execution_count": 2,
      "metadata": {
        "id": "0Q3-U1gggY0N"
      },
      "outputs": [],
      "source": [
        "import pvlib\n",
        "from pvlib import pvsystem\n",
        "import numpy as np\n",
        "import pandas as pd\n",
        "import matplotlib.pyplot as plt\n",
        "from scipy.constants import Boltzmann, elementary_charge"
      ]
    },
    {
      "cell_type": "markdown",
      "metadata": {
        "id": "lS273XbqgfID"
      },
      "source": [
        "### Funções para Extração de Parâmetros e Resolução da Equação Característica da Curva IV (De Soto)\n",
        "- As duas funções que estão aqui definem os parâmetros do Single Diode Model sob condições de STC (Padrão de Teste em Laboratório) e OPC (Operação)"
      ]
    },
    {
      "cell_type": "code",
      "execution_count": 3,
      "metadata": {},
      "outputs": [],
      "source": [
        "def desotorefparameters(Vmp, Imp, Voc, Isc, alpha, beta, Ns, EgRef, dEgdT, Tref, Gref):\n",
        "    desoto_fit_params = pvlib.ivtools.sdm.fit_desoto(Vmp,\n",
        "                                                     Imp,\n",
        "                                                     Voc, \n",
        "                                                     Isc,\n",
        "                                                     alpha,\n",
        "                                                     beta,\n",
        "                                                     Ns,\n",
        "                                                     EgRef,\n",
        "                                                     dEgdT,\n",
        "                                                     Tref, \n",
        "                                                     Gref,\n",
        "                                                     root_kwargs = {'method': 'lm', 'options':{'maxiter':10000, 'xtol': 1e-3, 'gtol': 1e-3}})\n",
        "    desoto_fit_params[0]\n",
        "\n",
        "    fitted_params = desoto_fit_params[0]\n",
        "\n",
        "    desoto_params_dict = fitted_params\n",
        "\n",
        "    results_df_desoto = pd.DataFrame(columns = ['a_ref', 'Ipv_ref', 'Io_ref', 'Rp_ref', 'R_s'])\n",
        "\n",
        "    results_df_desoto.loc[1] = [desoto_params_dict['a_ref'], desoto_params_dict['I_L_ref'], desoto_params_dict['I_o_ref'],\n",
        "                                desoto_params_dict['R_sh_ref'], desoto_params_dict['R_s']]\n",
        "    return(results_df_desoto)"
      ]
    },
    {
      "cell_type": "code",
      "execution_count": 4,
      "metadata": {},
      "outputs": [],
      "source": [
        "def desotoparametersopc(irrad, temp_cell, alpha, a_ref, Ipv_ref, Io_ref, Rp_ref, R_s, EgRef, dEgdT, Gref, Tref, method = 'lambertw', number_of_points = 100):\n",
        "    diode_params_desoto = pvlib.pvsystem.calcparams_desoto(irrad, \n",
        "                                                          temp_cell, \n",
        "                                                          alpha, \n",
        "                                                          a_ref, \n",
        "                                                          Ipv_ref, \n",
        "                                                          Io_ref, \n",
        "                                                          Rp_ref, \n",
        "                                                          R_s, \n",
        "                                                          EgRef, \n",
        "                                                          dEgdT, \n",
        "                                                          Gref, \n",
        "                                                          Tref)\n",
        "    SDE_params = {\n",
        "        'photocurrent': diode_params_desoto[0],\n",
        "        'saturation_current': diode_params_desoto[1],\n",
        "        'resistance_series': diode_params_desoto[2],\n",
        "        'resistance_shunt': diode_params_desoto[3],\n",
        "        'nNsVth': diode_params_desoto[4]\n",
        "    }\n",
        "\n",
        "    curve_info = pvsystem.singlediode(method=method, **SDE_params)\n",
        "    v = pd.DataFrame(np.linspace(0, curve_info['v_oc'], number_of_points))\n",
        "    i = pd.DataFrame(pvsystem.i_from_v(voltage=v, method=method, **SDE_params))\n",
        "\n",
        "    return ({'Key_Points': curve_info,\n",
        "             'Voltage': v,\n",
        "             'Current': i})"
      ]
    },
    {
      "cell_type": "code",
      "execution_count": null,
      "metadata": {
        "id": "wAJMmfJrgiHu"
      },
      "outputs": [],
      "source": [
        "#Constantes necessárias para a modelagem em STC\n",
        "EgRef=1.121 #Valence energy band-gap for Crystalline Silicon\n",
        "dEgdT=- 0.0002677 #\n",
        "Tref = 25 #Temperature (°C) under STC\n",
        "Gref = 1000 #Irradiance (W/m²) under STC\n",
        "k = Boltzmann\n",
        "q = elementary_charge"
      ]
    },
    {
      "cell_type": "markdown",
      "metadata": {
        "id": "12NKc08QgkwE"
      },
      "source": [
        "### Características do Módulo FV e Condição de STC\n",
        "- Aqui você pode colocar os parâmetros elétricos de qualquer datasheet de módulo FV para extrair os parâmetros elétricos do Single Diode Model\n"
      ]
    },
    {
      "cell_type": "code",
      "execution_count": 6,
      "metadata": {
        "id": "w8jVHhlygmyu"
      },
      "outputs": [],
      "source": [
        "Vmp = 30.8 #Voltage at Maximum Power\n",
        "Imp = 8.75 #Current at Maximum Power\n",
        "Voc = 37.9 #Open-Circuit Voltage\n",
        "Isc = 9.32 #Short-Circuit Current\n",
        "alpha = 0.05*Isc/100 # Alpha_isc (%/A) * Short-Circuit Current\n",
        "beta = (-0.31)*Voc/100 # Beta_voc (%/V) * Open-Circuit Voltage\n",
        "gamma = -0.41\n",
        "Ns = 60 #Number of PV Cells in Series\n",
        "A_c = 1.6368 #The Area of PV Module's Surface"
      ]
    },
    {
      "cell_type": "code",
      "execution_count": 27,
      "metadata": {
        "id": "85oOqJrignFf"
      },
      "outputs": [],
      "source": [
        "# Condições de Irradiância em STC (1000 W/m² e 25°C)\n",
        "irrad = 1000\n",
        "temp_cell = 25"
      ]
    },
    {
      "cell_type": "markdown",
      "metadata": {
        "id": "U0pESMuIguYZ"
      },
      "source": [
        "### 1) Extração de Parâmetros dos Pontos da Curva IV do Datasheet (Métodos da De Soto)"
      ]
    },
    {
      "cell_type": "code",
      "execution_count": 29,
      "metadata": {
        "id": "B7Pm9DS7gvC6"
      },
      "outputs": [
        {
          "name": "stdout",
          "output_type": "stream",
          "text": [
            "Os 5 parâmetros do SDM em STC\n"
          ]
        },
        {
          "data": {
            "text/html": [
              "<div>\n",
              "<style scoped>\n",
              "    .dataframe tbody tr th:only-of-type {\n",
              "        vertical-align: middle;\n",
              "    }\n",
              "\n",
              "    .dataframe tbody tr th {\n",
              "        vertical-align: top;\n",
              "    }\n",
              "\n",
              "    .dataframe thead th {\n",
              "        text-align: right;\n",
              "    }\n",
              "</style>\n",
              "<table border=\"1\" class=\"dataframe\">\n",
              "  <thead>\n",
              "    <tr style=\"text-align: right;\">\n",
              "      <th></th>\n",
              "      <th>a_ref</th>\n",
              "      <th>Ipv_ref</th>\n",
              "      <th>Io_ref</th>\n",
              "      <th>Rp_ref</th>\n",
              "      <th>R_s</th>\n",
              "    </tr>\n",
              "  </thead>\n",
              "  <tbody>\n",
              "    <tr>\n",
              "      <th>1</th>\n",
              "      <td>1.466828</td>\n",
              "      <td>9.331172</td>\n",
              "      <td>5.510302e-11</td>\n",
              "      <td>256.566134</td>\n",
              "      <td>0.306243</td>\n",
              "    </tr>\n",
              "  </tbody>\n",
              "</table>\n",
              "</div>"
            ],
            "text/plain": [
              "      a_ref   Ipv_ref        Io_ref      Rp_ref       R_s\n",
              "1  1.466828  9.331172  5.510302e-11  256.566134  0.306243"
            ]
          },
          "execution_count": 29,
          "metadata": {},
          "output_type": "execute_result"
        }
      ],
      "source": [
        "desoto_ref_parameters = desotorefparameters(Vmp, Imp, Voc, Isc, alpha, beta, Ns, EgRef, dEgdT, Tref, Gref)\n",
        "print('Os 5 parâmetros do SDM em STC')\n",
        "desoto_ref_parameters"
      ]
    },
    {
      "cell_type": "markdown",
      "metadata": {
        "id": "W-voyt4-gxU3"
      },
      "source": [
        "### 2) Resolvendo a Equação Característica do SDM 5 P (Métodos do Lambert-W, Newton-Raphson e Bishop)"
      ]
    },
    {
      "cell_type": "code",
      "execution_count": 30,
      "metadata": {
        "id": "WpOp7nkKgzJj"
      },
      "outputs": [
        {
          "name": "stdout",
          "output_type": "stream",
          "text": [
            "Pontos chave da Curva IV\n"
          ]
        },
        {
          "data": {
            "text/plain": [
              "{'i_sc': 9.320047289526327,\n",
              " 'v_oc': 37.90170030774971,\n",
              " 'i_mp': 8.749983509405975,\n",
              " 'v_mp': 30.80051909121857,\n",
              " 'p_mp': 269.5040341293064,\n",
              " 'i_x': 9.246117079837894,\n",
              " 'i_xx': 6.20733674944824}"
            ]
          },
          "execution_count": 30,
          "metadata": {},
          "output_type": "execute_result"
        }
      ],
      "source": [
        "a_ref = desoto_ref_parameters['a_ref'][1]\n",
        "Ipv_ref = desoto_ref_parameters['Ipv_ref'][1]\n",
        "Io_ref = desoto_ref_parameters['Io_ref'][1]\n",
        "Rp_ref = desoto_ref_parameters['Rp_ref'][1]\n",
        "R_s = desoto_ref_parameters['R_s'][1]\n",
        "\n",
        "results = desotoparametersopc(irrad, temp_cell, alpha, a_ref, Ipv_ref, Io_ref, Rp_ref, R_s, EgRef, dEgdT, Gref, Tref, method = 'lambertw', number_of_points = 100)\n",
        "print('Pontos chave da Curva IV')\n",
        "results['Key_Points']"
      ]
    },
    {
      "cell_type": "code",
      "execution_count": 31,
      "metadata": {},
      "outputs": [
        {
          "name": "stdout",
          "output_type": "stream",
          "text": [
            "Curva IV em STC destacando o Ponto de Máxima Potência\n"
          ]
        },
        {
          "data": {
            "image/png": "[encoded data removed]",
            "text/plain": [
              "<Figure size 640x480 with 1 Axes>"
            ]
          },
          "metadata": {},
          "output_type": "display_data"
        }
      ],
      "source": [
        "print('Curva IV em STC destacando o Ponto de Máxima Potência')\n",
        "plt.plot(results['Voltage'], results['Current'])\n",
        "plt.scatter(results['Key_Points']['v_mp'], results['Key_Points']['i_mp'])\n",
        "plt.show()"
      ]
    },
    {
      "cell_type": "code",
      "execution_count": 32,
      "metadata": {},
      "outputs": [
        {
          "name": "stdout",
          "output_type": "stream",
          "text": [
            "Calculando o Fator de Forma da Curva IV\n",
            "0.7629366203164286\n"
          ]
        }
      ],
      "source": [
        "print('Calculando o Fator de Forma da Curva IV')\n",
        "FF = (results['Key_Points']['i_mp']*results['Key_Points']['v_mp'])/(results['Key_Points']['i_sc']*results['Key_Points']['v_oc'])\n",
        "print(FF)"
      ]
    },
    {
      "cell_type": "markdown",
      "metadata": {
        "id": "z5hTLDmMhIR1"
      },
      "source": [
        "### Desafio 1: Adaptar a Equação Característica do SDM 5-Param para:\n",
        "\n",
        "- 5 módulos em Série\n",
        "\n",
        "- 3 Módulos em Paralelo"
      ]
    },
    {
      "cell_type": "code",
      "execution_count": 12,
      "metadata": {
        "id": "qhd4-iephJFr"
      },
      "outputs": [
        {
          "name": "stdout",
          "output_type": "stream",
          "text": [
            "{'i_sc': 27.960141868578983, 'v_oc': 189.50850153874853, 'i_mp': 26.249950510281632, 'v_mp': 154.00259556132107, 'p_mp': 4042.560511939596, 'i_x': 27.738351239513687, 'i_xx': 18.622010208740967}\n"
          ]
        },
        {
          "data": {
            "image/png": "[encoded data removed]",
            "text/plain": [
              "<Figure size 640x480 with 1 Axes>"
            ]
          },
          "metadata": {},
          "output_type": "display_data"
        }
      ],
      "source": [
        "Nms = 5\n",
        "Nmp = 3\n",
        "\n",
        "a_ref = desoto_ref_parameters['a_ref'][1]*Nms\n",
        "Ipv_ref = desoto_ref_parameters['Ipv_ref'][1]*Nmp\n",
        "Io_ref = desoto_ref_parameters['Io_ref'][1]*Nmp\n",
        "Rp_ref = desoto_ref_parameters['Rp_ref'][1]*Nms/Nmp\n",
        "R_s = desoto_ref_parameters['R_s'][1]*Nms/Nmp\n",
        "\n",
        "results = desotoparametersopc(irrad, temp_cell, alpha, a_ref, Ipv_ref, Io_ref, Rp_ref, R_s, EgRef, dEgdT, Gref, Tref, method = 'lambertw', number_of_points = 100)\n",
        "print(results['Key_Points'])\n",
        "\n",
        "plt.plot(results['Voltage'], results['Current'])\n",
        "plt.show()"
      ]
    },
    {
      "cell_type": "markdown",
      "metadata": {
        "id": "BAzdrfG4hLkY"
      },
      "source": [
        "### Desafio 2: Determinem o Fator de Idealidade do Módulo"
      ]
    },
    {
      "cell_type": "code",
      "execution_count": 13,
      "metadata": {
        "id": "2tUyCSEahMQT"
      },
      "outputs": [
        {
          "data": {
            "text/plain": [
              "1    1.466828\n",
              "Name: a_ref, dtype: float64"
            ]
          },
          "execution_count": 13,
          "metadata": {},
          "output_type": "execute_result"
        }
      ],
      "source": [
        "desoto_ref_parameters['a_ref']"
      ]
    },
    {
      "cell_type": "code",
      "execution_count": 14,
      "metadata": {
        "id": "yJh42KE2hQ30"
      },
      "outputs": [
        {
          "name": "stdout",
          "output_type": "stream",
          "text": [
            "1    0.951525\n",
            "Name: a_ref, dtype: float64\n"
          ]
        }
      ],
      "source": [
        "Vt = k/q*(Tref + 273.15)\n",
        "n = desoto_ref_parameters['a_ref']/(Ns*Vt)\n",
        "print(n)"
      ]
    },
    {
      "cell_type": "markdown",
      "metadata": {
        "id": "JmgbuNZHhMjR"
      },
      "source": [
        "### Desafio 3: Fazer o Método do CEC para Extração de Parâmetros do Datasheet e Cálculo de Parâmetros do SDM"
      ]
    },
    {
      "cell_type": "code",
      "execution_count": 15,
      "metadata": {
        "id": "O3GJLO9WhPcV"
      },
      "outputs": [],
      "source": [
        "#!pip install NREL-PySAM"
      ]
    },
    {
      "cell_type": "code",
      "execution_count": 33,
      "metadata": {
        "id": "j4o11KizhT-5"
      },
      "outputs": [
        {
          "name": "stdout",
          "output_type": "stream",
          "text": [
            "Ipv, Io, Rs, Rp, a, Adjust\n",
            "(9.3295038346468, 1.2260000881764844e-10, 0.2947913973553517, 289.0892053279882, 1.5135103456529186, 7.684762576630363)\n"
          ]
        }
      ],
      "source": [
        "celltype = 'polySi'\n",
        "cec_fit_params = pvlib.ivtools.sdm.fit_cec_sam(celltype, Vmp, Imp, Voc, Isc, alpha, beta, gamma, Ns, Tref)\n",
        "\n",
        "print('Ipv, Io, Rs, Rp, a, Adjust')\n",
        "print(cec_fit_params)"
      ]
    },
    {
      "cell_type": "code",
      "execution_count": 34,
      "metadata": {
        "id": "Dp-xJxmlhT2Y"
      },
      "outputs": [
        {
          "name": "stdout",
          "output_type": "stream",
          "text": [
            "Os 5 Parâmetros do SDM em STC determinados pelo método do CEC\n"
          ]
        },
        {
          "data": {
            "text/plain": [
              "(9.3295038346468,\n",
              " 1.2260000881764844e-10,\n",
              " 0.2947913973553517,\n",
              " 289.0892053279882,\n",
              " 1.5135103456529186)"
            ]
          },
          "execution_count": 34,
          "metadata": {},
          "output_type": "execute_result"
        }
      ],
      "source": [
        "Ipv_ref = cec_fit_params[0]\n",
        "Io_ref = cec_fit_params[1]\n",
        "R_s = cec_fit_params[2]\n",
        "Rp_ref = cec_fit_params[3]\n",
        "a_ref = cec_fit_params[4]\n",
        "Adjust = cec_fit_params[5]\n",
        "\n",
        "cec_params_opc = pvlib.pvsystem.calcparams_cec(irrad, temp_cell, alpha, a_ref,\n",
        "                                            Ipv_ref, Io_ref, Rp_ref,\n",
        "                                            R_s, Adjust)\n",
        "print('Os 5 Parâmetros do SDM em STC determinados pelo método do CEC')\n",
        "cec_params_opc"
      ]
    },
    {
      "cell_type": "code",
      "execution_count": 35,
      "metadata": {},
      "outputs": [
        {
          "name": "stdout",
          "output_type": "stream",
          "text": [
            "Pontos-chave da curva IV\n"
          ]
        },
        {
          "data": {
            "text/plain": [
              "{'i_sc': 9.319999999999952,\n",
              " 'v_oc': 37.90000000000009,\n",
              " 'i_mp': 8.750000035338358,\n",
              " 'v_mp': 30.799999875607917,\n",
              " 'p_mp': 269.4999999999907,\n",
              " 'i_x': 9.254312619038513,\n",
              " 'i_xx': 6.23581550498219}"
            ]
          },
          "execution_count": 35,
          "metadata": {},
          "output_type": "execute_result"
        }
      ],
      "source": [
        "SDE_params_cec = {\n",
        "    'photocurrent': cec_params_opc[0],\n",
        "    'saturation_current': cec_params_opc[1],\n",
        "    'resistance_series': cec_params_opc[2],\n",
        "    'resistance_shunt': cec_params_opc[3],\n",
        "    'nNsVth': cec_params_opc[4]\n",
        "    }\n",
        "\n",
        "curve_info = pvsystem.singlediode(method='lambertw', **SDE_params_cec)\n",
        "v = pd.DataFrame(np.linspace(0, curve_info['v_oc'], 100))\n",
        "i = pd.DataFrame(pvsystem.i_from_v(voltage=v, method='lambertw', **SDE_params_cec))\n",
        "\n",
        "print('Pontos-chave da curva IV')\n",
        "curve_info"
      ]
    },
    {
      "cell_type": "markdown",
      "metadata": {
        "id": "VdqPmE44hZBN"
      },
      "source": [
        "### 3) Modelagem da Curva IV com a Variação de Temperatura e Irradiância"
      ]
    },
    {
      "cell_type": "code",
      "execution_count": 36,
      "metadata": {
        "id": "uqeoscMmhZqj"
      },
      "outputs": [],
      "source": [
        "# Variando a Irradiância e Mantendo a Temperatura Constante\n",
        "irrad = np.array([200, 400, 600, 800, 1000])\n",
        "temp_cell = np.array([25, 25, 25, 25, 25])"
      ]
    },
    {
      "cell_type": "code",
      "execution_count": 37,
      "metadata": {
        "id": "_-npaK8IhvdL"
      },
      "outputs": [
        {
          "data": {
            "text/html": [
              "<div>\n",
              "<style scoped>\n",
              "    .dataframe tbody tr th:only-of-type {\n",
              "        vertical-align: middle;\n",
              "    }\n",
              "\n",
              "    .dataframe tbody tr th {\n",
              "        vertical-align: top;\n",
              "    }\n",
              "\n",
              "    .dataframe thead th {\n",
              "        text-align: right;\n",
              "    }\n",
              "</style>\n",
              "<table border=\"1\" class=\"dataframe\">\n",
              "  <thead>\n",
              "    <tr style=\"text-align: right;\">\n",
              "      <th></th>\n",
              "      <th>i_sc</th>\n",
              "      <th>v_oc</th>\n",
              "      <th>i_mp</th>\n",
              "      <th>v_mp</th>\n",
              "      <th>p_mp</th>\n",
              "      <th>i_x</th>\n",
              "      <th>i_xx</th>\n",
              "    </tr>\n",
              "  </thead>\n",
              "  <tbody>\n",
              "    <tr>\n",
              "      <th>0</th>\n",
              "      <td>1.865520</td>\n",
              "      <td>35.465484</td>\n",
              "      <td>1.756472</td>\n",
              "      <td>30.346531</td>\n",
              "      <td>53.302822</td>\n",
              "      <td>1.853233</td>\n",
              "      <td>1.397291</td>\n",
              "    </tr>\n",
              "    <tr>\n",
              "      <th>1</th>\n",
              "      <td>3.730280</td>\n",
              "      <td>36.513973</td>\n",
              "      <td>3.511638</td>\n",
              "      <td>30.876970</td>\n",
              "      <td>108.428728</td>\n",
              "      <td>3.704985</td>\n",
              "      <td>2.713974</td>\n",
              "    </tr>\n",
              "    <tr>\n",
              "      <th>2</th>\n",
              "      <td>5.594280</td>\n",
              "      <td>37.127300</td>\n",
              "      <td>5.262759</td>\n",
              "      <td>30.993703</td>\n",
              "      <td>163.112397</td>\n",
              "      <td>5.555698</td>\n",
              "      <td>3.952924</td>\n",
              "    </tr>\n",
              "    <tr>\n",
              "      <th>3</th>\n",
              "      <td>7.457519</td>\n",
              "      <td>37.562462</td>\n",
              "      <td>7.009073</td>\n",
              "      <td>30.942312</td>\n",
              "      <td>216.876934</td>\n",
              "      <td>7.405461</td>\n",
              "      <td>5.123605</td>\n",
              "    </tr>\n",
              "    <tr>\n",
              "      <th>4</th>\n",
              "      <td>9.320000</td>\n",
              "      <td>37.900000</td>\n",
              "      <td>8.750000</td>\n",
              "      <td>30.800000</td>\n",
              "      <td>269.500000</td>\n",
              "      <td>9.254313</td>\n",
              "      <td>6.235816</td>\n",
              "    </tr>\n",
              "  </tbody>\n",
              "</table>\n",
              "</div>"
            ],
            "text/plain": [
              "       i_sc       v_oc      i_mp       v_mp        p_mp       i_x      i_xx\n",
              "0  1.865520  35.465484  1.756472  30.346531   53.302822  1.853233  1.397291\n",
              "1  3.730280  36.513973  3.511638  30.876970  108.428728  3.704985  2.713974\n",
              "2  5.594280  37.127300  5.262759  30.993703  163.112397  5.555698  3.952924\n",
              "3  7.457519  37.562462  7.009073  30.942312  216.876934  7.405461  5.123605\n",
              "4  9.320000  37.900000  8.750000  30.800000  269.500000  9.254313  6.235816"
            ]
          },
          "execution_count": 37,
          "metadata": {},
          "output_type": "execute_result"
        }
      ],
      "source": [
        "results = desotoparametersopc(irrad, temp_cell, alpha, a_ref, Ipv_ref, Io_ref, Rp_ref, R_s, EgRef, dEgdT, Gref, Tref, method = 'lambertw', number_of_points = 100)\n",
        "results['Key_Points']"
      ]
    },
    {
      "cell_type": "code",
      "execution_count": 38,
      "metadata": {
        "id": "JyGOYdSVhvV1"
      },
      "outputs": [
        {
          "data": {
            "image/png": "[encoded data removed]",
            "text/plain": [
              "<Figure size 640x480 with 1 Axes>"
            ]
          },
          "metadata": {},
          "output_type": "display_data"
        }
      ],
      "source": [
        "plt.plot(results['Voltage'], results['Current'])\n",
        "plt.show()"
      ]
    },
    {
      "cell_type": "code",
      "execution_count": 39,
      "metadata": {},
      "outputs": [],
      "source": [
        "# Variando a Temperatura e Mantendo a Irradiância Constante\n",
        "irrad = np.array([1000, 1000, 1000, 1000, 1000])\n",
        "temp_cell = np.array([10, 25, 40, 55, 70])"
      ]
    },
    {
      "cell_type": "code",
      "execution_count": 40,
      "metadata": {},
      "outputs": [
        {
          "data": {
            "text/html": [
              "<div>\n",
              "<style scoped>\n",
              "    .dataframe tbody tr th:only-of-type {\n",
              "        vertical-align: middle;\n",
              "    }\n",
              "\n",
              "    .dataframe tbody tr th {\n",
              "        vertical-align: top;\n",
              "    }\n",
              "\n",
              "    .dataframe thead th {\n",
              "        text-align: right;\n",
              "    }\n",
              "</style>\n",
              "<table border=\"1\" class=\"dataframe\">\n",
              "  <thead>\n",
              "    <tr style=\"text-align: right;\">\n",
              "      <th></th>\n",
              "      <th>i_sc</th>\n",
              "      <th>v_oc</th>\n",
              "      <th>i_mp</th>\n",
              "      <th>v_mp</th>\n",
              "      <th>p_mp</th>\n",
              "      <th>i_x</th>\n",
              "      <th>i_xx</th>\n",
              "    </tr>\n",
              "  </thead>\n",
              "  <tbody>\n",
              "    <tr>\n",
              "      <th>0</th>\n",
              "      <td>9.250171</td>\n",
              "      <td>39.791313</td>\n",
              "      <td>8.726844</td>\n",
              "      <td>32.761472</td>\n",
              "      <td>285.904261</td>\n",
              "      <td>9.181361</td>\n",
              "      <td>6.267855</td>\n",
              "    </tr>\n",
              "    <tr>\n",
              "      <th>1</th>\n",
              "      <td>9.320000</td>\n",
              "      <td>37.900000</td>\n",
              "      <td>8.750000</td>\n",
              "      <td>30.800000</td>\n",
              "      <td>269.500000</td>\n",
              "      <td>9.254313</td>\n",
              "      <td>6.235816</td>\n",
              "    </tr>\n",
              "    <tr>\n",
              "      <th>2</th>\n",
              "      <td>9.389829</td>\n",
              "      <td>35.998357</td>\n",
              "      <td>8.765648</td>\n",
              "      <td>28.849428</td>\n",
              "      <td>252.883936</td>\n",
              "      <td>9.326999</td>\n",
              "      <td>6.193623</td>\n",
              "    </tr>\n",
              "    <tr>\n",
              "      <th>3</th>\n",
              "      <td>9.459658</td>\n",
              "      <td>34.086921</td>\n",
              "      <td>8.772315</td>\n",
              "      <td>26.911968</td>\n",
              "      <td>236.080272</td>\n",
              "      <td>9.398986</td>\n",
              "      <td>6.140248</td>\n",
              "    </tr>\n",
              "    <tr>\n",
              "      <th>4</th>\n",
              "      <td>9.529486</td>\n",
              "      <td>32.166181</td>\n",
              "      <td>8.768148</td>\n",
              "      <td>24.990113</td>\n",
              "      <td>219.117010</td>\n",
              "      <td>9.469337</td>\n",
              "      <td>6.074396</td>\n",
              "    </tr>\n",
              "  </tbody>\n",
              "</table>\n",
              "</div>"
            ],
            "text/plain": [
              "       i_sc       v_oc      i_mp       v_mp        p_mp       i_x      i_xx\n",
              "0  9.250171  39.791313  8.726844  32.761472  285.904261  9.181361  6.267855\n",
              "1  9.320000  37.900000  8.750000  30.800000  269.500000  9.254313  6.235816\n",
              "2  9.389829  35.998357  8.765648  28.849428  252.883936  9.326999  6.193623\n",
              "3  9.459658  34.086921  8.772315  26.911968  236.080272  9.398986  6.140248\n",
              "4  9.529486  32.166181  8.768148  24.990113  219.117010  9.469337  6.074396"
            ]
          },
          "execution_count": 40,
          "metadata": {},
          "output_type": "execute_result"
        }
      ],
      "source": [
        "results = desotoparametersopc(irrad, temp_cell, alpha, a_ref, Ipv_ref, Io_ref, Rp_ref, R_s, EgRef, dEgdT, Gref, Tref, method = 'lambertw', number_of_points = 100)\n",
        "results['Key_Points']"
      ]
    },
    {
      "cell_type": "code",
      "execution_count": 41,
      "metadata": {},
      "outputs": [
        {
          "data": {
            "image/png": "[encoded data removed]",
            "text/plain": [
              "<Figure size 640x480 with 1 Axes>"
            ]
          },
          "metadata": {},
          "output_type": "display_data"
        }
      ],
      "source": [
        "plt.plot(results['Voltage'], results['Current'])\n",
        "plt.show()"
      ]
    },
    {
      "cell_type": "markdown",
      "metadata": {},
      "source": [
        "### Próxima Aula Iremos Estudar:\n",
        "- Eficiência do Módulo FV em STC e Sob Condições de Operação\n",
        "- Geração Simulada com Single Diode Model\n",
        "- Métricas de Desempenho"
      ]
    }
  ],
  "metadata": {
    "colab": {
      "provenance": []
    },
    "kernelspec": {
      "display_name": "base",
      "language": "python",
      "name": "python3"
    },
    "language_info": {
      "codemirror_mode": {
        "name": "ipython",
        "version": 3
      },
      "file_extension": ".py",
      "mimetype": "text/x-python",
      "name": "python",
      "nbconvert_exporter": "python",
      "pygments_lexer": "ipython3",
      "version": "3.11.5"
    }
  },
  "nbformat": 4,
  "nbformat_minor": 0
}
