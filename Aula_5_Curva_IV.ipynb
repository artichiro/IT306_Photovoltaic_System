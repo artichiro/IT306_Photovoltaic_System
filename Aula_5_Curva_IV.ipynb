{
  "nbformat": 4,
  "nbformat_minor": 0,
  "metadata": {
    "colab": {
      "provenance": []
    },
    "kernelspec": {
      "name": "python3",
      "display_name": "Python 3"
    },
    "language_info": {
      "name": "python"
    }
  },
  "cells": [
    {
      "cell_type": "code",
      "execution_count": null,
      "metadata": {
        "id": "8HuGzh68fSa3"
      },
      "outputs": [],
      "source": [
        "!pip install pvlib"
      ]
    },
    {
      "cell_type": "markdown",
      "source": [
        "## Etapas da Aula\n",
        "- Funções para Extração de Parâmetros e Resolução da Equação Característica da Curva IV (De Soto)\n",
        "\n",
        "- Características do Módulo FV e Condição de STC\n",
        "\n",
        "1) Extração de Parâmetros dos Pontos da Curva IV do Datasheet (Métodos da De Soto)\n",
        "\n",
        "2) Resolvendo a Equação Característica do SDM 5 P (Métodos do Lambert-W, Newton-Raphson e Bishop)\n",
        "\n",
        "-> Desafio 1: Adaptar a Equação Característica do SDM 5-Param para:\n",
        "- 5 módulos em Série\n",
        "- 3 Módulos em Paralelo\n",
        "\n",
        "-> Desafio 2: Determinem o Fator de Idealidade do Módulo\n",
        "\n",
        "-> Desafio 3: Fazer o Método do CEC para Extração de Parâmetros do Datasheet e Cálculo de Parâmetros do SDM\n",
        "\n",
        "3) Modelagem da Curva IV com a Variação de Temperatura e Irradiância\n",
        "\n",
        "4) Eficiência do Módulo Variando a Irradiância e Temperatura\n",
        "\n",
        "-> Desafio 4: Façam a Variação para Temperatura, Mantendo a Irradiância Constante em 1000 W/m²\n",
        "\n",
        "5) Inserindo Dados de Irradiância e Temperatura Modelados com Dados Medidos em Campo\n",
        "\n",
        "-> Desafio 5: Façam a Modelagem em Máxima Potência usando o Método de OPC da De Soto\n",
        "\n",
        "-> Desafio 6: Façam o Gráfico de Eficiência do Módulo com os Dados Simulados de POA e Temp Cell\n",
        "\n",
        "6) Relação de Irradiância e Potência\n",
        "\n",
        "7) Eficiência ao Longo de um Dia"
      ],
      "metadata": {
        "id": "pLt9CIPwgYgt"
      }
    },
    {
      "cell_type": "code",
      "source": [
        "import pvlib\n",
        "from pvlib import pvsystem\n",
        "import numpy as np\n",
        "import pandas as pd\n",
        "import matplotlib.pyplot as plt\n",
        "from scipy.constants import Boltzmann, elementary_charge"
      ],
      "metadata": {
        "id": "0Q3-U1gggY0N"
      },
      "execution_count": null,
      "outputs": []
    },
    {
      "cell_type": "markdown",
      "source": [
        "### Funções para Extração de Parâmetros e Resolução da Equação Característica da Curva IV (De Soto)"
      ],
      "metadata": {
        "id": "lS273XbqgfID"
      }
    },
    {
      "cell_type": "code",
      "source": [
        "# Inputs (Datasheet ou Curva IV Medida sob STC)\n"
      ],
      "metadata": {
        "id": "gSPMTiRsgZFq"
      },
      "execution_count": null,
      "outputs": []
    },
    {
      "cell_type": "code",
      "source": [
        "# Função para Cálculo dos Parâmetros em OPC\n"
      ],
      "metadata": {
        "id": "Z6rEJtp2gZDc"
      },
      "execution_count": null,
      "outputs": []
    },
    {
      "cell_type": "code",
      "source": [
        "#Constantes\n",
        "EgRef=1.121 #Valence energy band-gap for Crystalline Silicon\n",
        "dEgdT=- 0.0002677 #\n",
        "Tref = 25 #Temperature (°C) under STC\n",
        "Gref = 1000 #Irradiance (W/m²) under STC\n",
        "k = Boltzmann\n",
        "q = elementary_charge"
      ],
      "metadata": {
        "id": "wAJMmfJrgiHu"
      },
      "execution_count": null,
      "outputs": []
    },
    {
      "cell_type": "markdown",
      "source": [
        "### Características do Módulo FV e Condição de STC"
      ],
      "metadata": {
        "id": "12NKc08QgkwE"
      }
    },
    {
      "cell_type": "code",
      "source": [
        "Vmp = 30.8 #Voltage at Maximum Power\n",
        "Imp = 8.75 #Current at Maximum Power\n",
        "Voc = 37.9 #Open-Circuit Voltage\n",
        "Isc = 9.32 #Short-Circuit Current\n",
        "alpha = 0.05*Isc/100 # Alpha_isc (%/A) * Short-Circuit Current\n",
        "beta = (-0.31)*Voc/100 # Beta_voc (%/V) * Open-Circuit Voltage\n",
        "gamma = -0.41\n",
        "Ns = 60 #Number of PV Cells in Series\n",
        "A_c = 1.6368 #The Area of PV Module's Surface"
      ],
      "metadata": {
        "id": "w8jVHhlygmyu"
      },
      "execution_count": null,
      "outputs": []
    },
    {
      "cell_type": "code",
      "source": [
        "irrad = 1000\n",
        "temp_cell = 25"
      ],
      "metadata": {
        "id": "85oOqJrignFf"
      },
      "execution_count": null,
      "outputs": []
    },
    {
      "cell_type": "markdown",
      "source": [
        "### 1) Extração de Parâmetros dos Pontos da Curva IV do Datasheet (Métodos da De Soto)"
      ],
      "metadata": {
        "id": "U0pESMuIguYZ"
      }
    },
    {
      "cell_type": "code",
      "source": [],
      "metadata": {
        "id": "B7Pm9DS7gvC6"
      },
      "execution_count": null,
      "outputs": []
    },
    {
      "cell_type": "markdown",
      "source": [
        "### 2) Resolvendo a Equação Característica do SDM 5 P (Métodos do Lambert-W, Newton-Raphson e Bishop)"
      ],
      "metadata": {
        "id": "W-voyt4-gxU3"
      }
    },
    {
      "cell_type": "code",
      "source": [],
      "metadata": {
        "id": "WpOp7nkKgzJj"
      },
      "execution_count": null,
      "outputs": []
    },
    {
      "cell_type": "markdown",
      "source": [
        "### Desafio 1: Adaptar a Equação Característica do SDM 5-Param para:\n",
        "\n",
        "- 5 módulos em Série\n",
        "\n",
        "- 3 Módulos em Paralelo"
      ],
      "metadata": {
        "id": "z5hTLDmMhIR1"
      }
    },
    {
      "cell_type": "code",
      "source": [],
      "metadata": {
        "id": "qhd4-iephJFr"
      },
      "execution_count": null,
      "outputs": []
    },
    {
      "cell_type": "markdown",
      "source": [
        "### Desafio 2: Determinem o Fator de Idealidade do Módulo"
      ],
      "metadata": {
        "id": "BAzdrfG4hLkY"
      }
    },
    {
      "cell_type": "code",
      "source": [],
      "metadata": {
        "id": "2tUyCSEahMQT"
      },
      "execution_count": null,
      "outputs": []
    },
    {
      "cell_type": "code",
      "source": [],
      "metadata": {
        "id": "yJh42KE2hQ30"
      },
      "execution_count": null,
      "outputs": []
    },
    {
      "cell_type": "markdown",
      "source": [
        "### Desafio 3: Fazer o Método do CEC para Extração de Parâmetros do Datasheet e Cálculo de Parâmetros do SDM"
      ],
      "metadata": {
        "id": "JmgbuNZHhMjR"
      }
    },
    {
      "cell_type": "code",
      "source": [
        "!pip install NREL-PySAM"
      ],
      "metadata": {
        "id": "O3GJLO9WhPcV"
      },
      "execution_count": null,
      "outputs": []
    },
    {
      "cell_type": "code",
      "source": [],
      "metadata": {
        "id": "j4o11KizhT-5"
      },
      "execution_count": null,
      "outputs": []
    },
    {
      "cell_type": "code",
      "source": [],
      "metadata": {
        "id": "Dp-xJxmlhT2Y"
      },
      "execution_count": null,
      "outputs": []
    },
    {
      "cell_type": "markdown",
      "source": [
        "### 3) Modelagem da Curva IV com a Variação de Temperatura e Irradiância"
      ],
      "metadata": {
        "id": "VdqPmE44hZBN"
      }
    },
    {
      "cell_type": "code",
      "source": [],
      "metadata": {
        "id": "uqeoscMmhZqj"
      },
      "execution_count": null,
      "outputs": []
    },
    {
      "cell_type": "code",
      "source": [],
      "metadata": {
        "id": "_-npaK8IhvdL"
      },
      "execution_count": null,
      "outputs": []
    },
    {
      "cell_type": "code",
      "source": [],
      "metadata": {
        "id": "JyGOYdSVhvV1"
      },
      "execution_count": null,
      "outputs": []
    },
    {
      "cell_type": "markdown",
      "source": [
        "### 4)  Eficiência do Módulo Variando a Irradiância e Temperatura"
      ],
      "metadata": {
        "id": "LV9D7grdhw2w"
      }
    },
    {
      "cell_type": "code",
      "source": [],
      "metadata": {
        "id": "F4eXu2NqhzDW"
      },
      "execution_count": null,
      "outputs": []
    },
    {
      "cell_type": "markdown",
      "source": [
        "### Desafio 4: Façam a Variação para Temperatura, Mantendo a Irradiância Constante em 1000 W/m²"
      ],
      "metadata": {
        "id": "FPgQEx4IiZk8"
      }
    },
    {
      "cell_type": "code",
      "source": [],
      "metadata": {
        "id": "3a3xz4oziaWG"
      },
      "execution_count": null,
      "outputs": []
    },
    {
      "cell_type": "markdown",
      "source": [
        "### 5) Inserindo Dados de Irradiância e Temperatura Modelados com Dados Medidos em Campo"
      ],
      "metadata": {
        "id": "bTRl0DwEic9g"
      }
    },
    {
      "cell_type": "code",
      "source": [
        "#Import Data\n",
        "#Localização da Universidade de Oregon\n",
        "\n",
        "df_weather = pvlib.iotools.read_midc_raw_data_from_nrel('UOSMRL',               # Station id\n",
        "                                                    pd.Timestamp('20230601'),   # Start date YYYYMMDD\n",
        "                                                    pd.Timestamp('20230601'))   # End date  YYYYMMDD\n",
        "\n",
        "df_weather.head(3)"
      ],
      "metadata": {
        "id": "7tZvgA6HidgY"
      },
      "execution_count": null,
      "outputs": []
    },
    {
      "cell_type": "code",
      "source": [
        "df_weather = df_weather[['Global CMP22 [W/m^2]', 'Diffuse [W/m^2]',\n",
        "                         'Direct CHP1 [W/m^2]','Air Temperature [deg C]', 'Avg Wind Speed @ 10m [m/s]']]\n",
        "# Rename the columns\n",
        "df_weather.columns = ['ghi', 'dhi', 'dni', 'temp_air', 'wind_speed']"
      ],
      "metadata": {
        "id": "kKz2GW61ifbh"
      },
      "execution_count": null,
      "outputs": []
    },
    {
      "cell_type": "code",
      "source": [
        "latitude = 44.0467\n",
        "longitude = -123.0743\n",
        "altitude = 133.8\n",
        "\n",
        "loc = pvlib.location.Location(latitude = latitude, longitude = longitude)\n",
        "\n",
        "solpos = loc.get_solarposition(df_weather.index)\n",
        "\n",
        "GHI = loc.get_clearsky(df_weather.index, model = 'simplified_solis')\n",
        "\n",
        "#Estimação de Perdar por Sombreamento\n",
        "plt.figure(figsize=(15,5))\n",
        "df_weather['ghi'].plot(label = 'Experimental data')\n",
        "GHI['ghi'].plot(label = 'Clearsky Model')\n",
        "print((GHI['ghi']-df_weather['ghi']).sum())"
      ],
      "metadata": {
        "id": "3PV3r_8NifZS"
      },
      "execution_count": null,
      "outputs": []
    },
    {
      "cell_type": "code",
      "source": [
        "#POA no Plano do Módulo\n",
        "surface_tilt = 23\n",
        "surface_azimuth = 180\n",
        "solar_zenith = solpos['zenith']\n",
        "solar_azimuth = solpos['azimuth']\n",
        "dni = df_weather['dni']\n",
        "ghi = df_weather['ghi']\n",
        "dhi = df_weather['dhi']\n",
        "dni_extra = pvlib.irradiance.get_extra_radiation(df_weather.index)\n",
        "airmass_relative = pvlib.atmosphere.get_relative_airmass(solpos['apparent_zenith'])\n",
        "pressure = pvlib.atmosphere.alt2pres(altitude = altitude)\n",
        "airmass = pvlib.atmosphere.get_absolute_airmass(airmass_relative, pressure)\n",
        "\n",
        "POA_Irradiance = pvlib.irradiance.get_total_irradiance(surface_tilt,\n",
        "                                                  surface_azimuth,\n",
        "                                                  solar_zenith,\n",
        "                                                  solar_azimuth,\n",
        "                                                  dni,\n",
        "                                                  ghi,\n",
        "                                                  dhi,\n",
        "                                                  dni_extra=dni_extra,\n",
        "                                                  airmass=airmass,\n",
        "                                                  albedo=0.25,\n",
        "                                                  surface_type=None,\n",
        "                                                  model='perez', #'isotropic', 'klucher', 'haydavies', 'reindl', 'king', 'perez', 'perez-driesse'\n",
        "                                                  model_perez='allsitescomposite1990') #Used only for Perez Model)\n",
        "plt.figure(figsize=(15,5))\n",
        "POA_Irradiance['poa_global'].plot()\n",
        "print(POA_Irradiance['poa_global'].max())"
      ],
      "metadata": {
        "id": "tCAk1VN2ifW9"
      },
      "execution_count": null,
      "outputs": []
    },
    {
      "cell_type": "code",
      "source": [
        "#Temperatura da Célula FV\n",
        "PV_Cell_Temp = pvlib.temperature.pvsyst_cell(poa_global = POA_Irradiance['poa_global'],\n",
        "                                             temp_air = df_weather['temp_air'], wind_speed = df_weather['wind_speed'],\n",
        "                                             u_c = 29.0, u_v=0.0,\n",
        "                                             module_efficiency=0.1701,\n",
        "                                             alpha_absorption=0.9)\n",
        "\n",
        "plt.figure(figsize = (15,6))\n",
        "PV_Cell_Temp.plot(label = 'PV Cell Temperature')\n",
        "df_weather['temp_air'].plot(label = 'Air Temperature')\n",
        "plt.legend()"
      ],
      "metadata": {
        "id": "gnjGg-kKifSd"
      },
      "execution_count": null,
      "outputs": []
    },
    {
      "cell_type": "markdown",
      "source": [
        "### Desafio 5: Façam a Modelagem em Máxima Potência usando o Método de OPC da De Soto"
      ],
      "metadata": {
        "id": "GVWnwT7Pitoi"
      }
    },
    {
      "cell_type": "code",
      "source": [],
      "metadata": {
        "id": "7XEe50VQit_t"
      },
      "execution_count": null,
      "outputs": []
    },
    {
      "cell_type": "markdown",
      "source": [
        "### Desafio 6: Façam o Gráfico de Eficiência do Módulo com os Dados Simulados de POA e Temp Cell"
      ],
      "metadata": {
        "id": "1LhVsyKPi2c6"
      }
    },
    {
      "cell_type": "code",
      "source": [],
      "metadata": {
        "id": "ynJA-lt_i44Z"
      },
      "execution_count": null,
      "outputs": []
    },
    {
      "cell_type": "markdown",
      "source": [
        "### 6) Relação de Irradiância e Potência"
      ],
      "metadata": {
        "id": "iqB0fOULi98U"
      }
    },
    {
      "cell_type": "code",
      "source": [],
      "metadata": {
        "id": "w1NAx3Ndi872"
      },
      "execution_count": null,
      "outputs": []
    },
    {
      "cell_type": "markdown",
      "source": [
        "### 7) Eficiência ao Longo de um Dia"
      ],
      "metadata": {
        "id": "NPxLJ22qj8I3"
      }
    },
    {
      "cell_type": "code",
      "source": [],
      "metadata": {
        "id": "F0_qE2sFkAk-"
      },
      "execution_count": null,
      "outputs": []
    }
  ]
}